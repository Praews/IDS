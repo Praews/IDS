{
 "cells": [
  {
   "cell_type": "code",
   "execution_count": 62,
   "id": "b03337ca",
   "metadata": {},
   "outputs": [],
   "source": [
    "import numpy as np\n",
    "import pandas as pd"
   ]
  },
  {
   "cell_type": "code",
   "execution_count": 19,
   "id": "5a6a5904",
   "metadata": {},
   "outputs": [
    {
     "data": {
      "text/plain": [
       "[1, 2, 3, 4, 5, 6, 7]"
      ]
     },
     "metadata": {},
     "output_type": "display_data"
    },
    {
     "data": {
      "text/plain": [
       "array([1, 2, 3, 4, 5, 6, 7])"
      ]
     },
     "metadata": {},
     "output_type": "display_data"
    }
   ],
   "source": [
    "lst = [1,2,3,4,5,6,7]\n",
    "arr = np.array(lst)\n",
    "display(lst)\n",
    "display(arr)"
   ]
  },
  {
   "cell_type": "code",
   "execution_count": 20,
   "id": "269a4d0c",
   "metadata": {},
   "outputs": [
    {
     "data": {
      "text/plain": [
       "array([[1, 1, 1, 1, 1],\n",
       "       [1, 1, 1, 1, 1]])"
      ]
     },
     "metadata": {},
     "output_type": "display_data"
    }
   ],
   "source": [
    "one = np.ones((2,5), dtype=int)\n",
    "display(one)"
   ]
  },
  {
   "cell_type": "code",
   "execution_count": 21,
   "id": "6303bd1b",
   "metadata": {},
   "outputs": [
    {
     "data": {
      "text/plain": [
       "array([[1, 1, 1, 1, 1],\n",
       "       [1, 1, 1, 1, 1]])"
      ]
     },
     "metadata": {},
     "output_type": "display_data"
    }
   ],
   "source": [
    "zeros = np.zeros((2,5), dtype=int)\n",
    "display(one)"
   ]
  },
  {
   "cell_type": "code",
   "execution_count": 22,
   "id": "c96a8ab6",
   "metadata": {},
   "outputs": [
    {
     "data": {
      "text/plain": [
       "array([[1, 1, 1, 1, 1],\n",
       "       [1, 1, 1, 1, 1]])"
      ]
     },
     "metadata": {},
     "output_type": "display_data"
    }
   ],
   "source": [
    "full = np.full((2,5), 20, dtype=int)\n",
    "display(one)"
   ]
  },
  {
   "cell_type": "code",
   "execution_count": 23,
   "id": "3058faa3",
   "metadata": {},
   "outputs": [
    {
     "data": {
      "text/plain": [
       "array([[1, 1, 1, 1, 1],\n",
       "       [1, 1, 1, 1, 1]])"
      ]
     },
     "metadata": {},
     "output_type": "display_data"
    }
   ],
   "source": [
    "eye = np.eye(9,9,-3, dtype=int)\n",
    "display(one)"
   ]
  },
  {
   "cell_type": "code",
   "execution_count": 49,
   "id": "9aacc60b",
   "metadata": {},
   "outputs": [
    {
     "data": {
      "text/plain": [
       "array([1, 2, 3, 4, 5, 6, 7])"
      ]
     },
     "metadata": {},
     "output_type": "display_data"
    },
    {
     "data": {
      "text/plain": [
       "array([1, 2, 3, 4, 5, 6, 2, 9])"
      ]
     },
     "metadata": {},
     "output_type": "display_data"
    },
    {
     "data": {
      "text/plain": [
       "array([1, 2, 3, 4, 5, 6, 7], dtype=int32)"
      ]
     },
     "metadata": {},
     "output_type": "display_data"
    }
   ],
   "source": [
    "lst1 = [1,2,3,4,5,6,7]\n",
    "lst2 = [1,2,3,4,5,6,2]\n",
    "arr1 = np.array(lst1)\n",
    "arr2 = np.array(lst2)\n",
    "\n",
    "display(arr1,arr2, arr1 ==arr2, arr1 & arr1)"
   ]
  },
  {
   "cell_type": "code",
   "execution_count": 56,
   "id": "a87df92a",
   "metadata": {},
   "outputs": [
    {
     "data": {
      "text/plain": [
       "array([[ 0,  1,  2,  3],\n",
       "       [ 4,  5,  6,  7],\n",
       "       [ 8,  9, 10, 11],\n",
       "       [12, 13, 14, 15],\n",
       "       [16, 17, 18, 19]])"
      ]
     },
     "metadata": {},
     "output_type": "display_data"
    }
   ],
   "source": [
    "ranges = np.arange(0,20).reshape(5,4)\n",
    "display(ranges)"
   ]
  },
  {
   "cell_type": "code",
   "execution_count": 63,
   "id": "ba068be9",
   "metadata": {},
   "outputs": [],
   "source": [
    "from numpy import random"
   ]
  },
  {
   "cell_type": "code",
   "execution_count": 174,
   "id": "6eadafcd",
   "metadata": {},
   "outputs": [
    {
     "data": {
      "text/plain": [
       "array([ 6, 13, 16,  1,  2, 10, 11,  4,  7, 15, 18,  9, 17,  0, 12,  5, 14,\n",
       "        3,  8, 19])"
      ]
     },
     "metadata": {},
     "output_type": "display_data"
    },
    {
     "data": {
      "text/plain": [
       "array([15,  5,  9, 13, 19,  8,  1, 14,  0, 10, 17, 12, 16,  6,  3, 11,  4,\n",
       "       18,  7,  2])"
      ]
     },
     "metadata": {},
     "output_type": "display_data"
    }
   ],
   "source": [
    "sf = np.arange(0,20)\n",
    "random.shuffle(sf)\n",
    "\n",
    "sf_per = random.permutation(sf)\n",
    "display(sf, sf_per)"
   ]
  },
  {
   "cell_type": "code",
   "execution_count": 182,
   "id": "e31c5892",
   "metadata": {},
   "outputs": [
    {
     "data": {
      "text/plain": [
       "a    1\n",
       "b    2\n",
       "c    3\n",
       "d    4\n",
       "e    5\n",
       "dtype: int64"
      ]
     },
     "metadata": {},
     "output_type": "display_data"
    }
   ],
   "source": [
    "ser = pd.Series([1,2,3,4,5], index=list('abcde'))\n",
    "display(ser)"
   ]
  },
  {
   "cell_type": "code",
   "execution_count": 194,
   "id": "d517fe62",
   "metadata": {
    "scrolled": true
   },
   "outputs": [
    {
     "data": {
      "text/html": [
       "<div>\n",
       "<style scoped>\n",
       "    .dataframe tbody tr th:only-of-type {\n",
       "        vertical-align: middle;\n",
       "    }\n",
       "\n",
       "    .dataframe tbody tr th {\n",
       "        vertical-align: top;\n",
       "    }\n",
       "\n",
       "    .dataframe thead th {\n",
       "        text-align: right;\n",
       "    }\n",
       "</style>\n",
       "<table border=\"1\" class=\"dataframe\">\n",
       "  <thead>\n",
       "    <tr style=\"text-align: right;\">\n",
       "      <th></th>\n",
       "      <th>a</th>\n",
       "      <th>b</th>\n",
       "      <th>c</th>\n",
       "      <th>d</th>\n",
       "      <th>e</th>\n",
       "    </tr>\n",
       "  </thead>\n",
       "  <tbody>\n",
       "    <tr>\n",
       "      <th>a</th>\n",
       "      <td>1</td>\n",
       "      <td>2</td>\n",
       "      <td>3</td>\n",
       "      <td>4</td>\n",
       "      <td>5</td>\n",
       "    </tr>\n",
       "    <tr>\n",
       "      <th>b</th>\n",
       "      <td>1</td>\n",
       "      <td>2</td>\n",
       "      <td>3</td>\n",
       "      <td>4</td>\n",
       "      <td>5</td>\n",
       "    </tr>\n",
       "  </tbody>\n",
       "</table>\n",
       "</div>"
      ],
      "text/plain": [
       "   a  b  c  d  e\n",
       "a  1  2  3  4  5\n",
       "b  1  2  3  4  5"
      ]
     },
     "execution_count": 194,
     "metadata": {},
     "output_type": "execute_result"
    }
   ],
   "source": [
    "pd.DataFrame([[1,2,3,4,5],[1,2,3,4,5]], index=list('ab'), columns=list('abcde'))"
   ]
  },
  {
   "cell_type": "code",
   "execution_count": 205,
   "id": "ebc6f336",
   "metadata": {},
   "outputs": [
    {
     "data": {
      "text/html": [
       "<div>\n",
       "<style scoped>\n",
       "    .dataframe tbody tr th:only-of-type {\n",
       "        vertical-align: middle;\n",
       "    }\n",
       "\n",
       "    .dataframe tbody tr th {\n",
       "        vertical-align: top;\n",
       "    }\n",
       "\n",
       "    .dataframe thead th {\n",
       "        text-align: right;\n",
       "    }\n",
       "</style>\n",
       "<table border=\"1\" class=\"dataframe\">\n",
       "  <thead>\n",
       "    <tr style=\"text-align: right;\">\n",
       "      <th></th>\n",
       "      <th>ProductId</th>\n",
       "      <th>UserId</th>\n",
       "      <th>productName</th>\n",
       "      <th>Score</th>\n",
       "      <th>Summary</th>\n",
       "      <th>Text</th>\n",
       "    </tr>\n",
       "  </thead>\n",
       "  <tbody>\n",
       "    <tr>\n",
       "      <th>41705</th>\n",
       "      <td>B007IVE938</td>\n",
       "      <td>A3MDETK0D5UAIN</td>\n",
       "      <td>Ajika Organic Rose Buds, 1.6-Ounce</td>\n",
       "      <td>1</td>\n",
       "      <td>Not what I expected.</td>\n",
       "      <td>I certainly could do better by these if I just...</td>\n",
       "    </tr>\n",
       "    <tr>\n",
       "      <th>41706</th>\n",
       "      <td>B00125NESM</td>\n",
       "      <td>AGGS9IPJDU6ML</td>\n",
       "      <td>JOHN BOOS FBLG7224 Table,Stainless,Shelf,72\"x24\"</td>\n",
       "      <td>5</td>\n",
       "      <td>Great!!</td>\n",
       "      <td>Table is 35 inches in height.  It is heavy dut...</td>\n",
       "    </tr>\n",
       "    <tr>\n",
       "      <th>41707</th>\n",
       "      <td>B003M5W8ZK</td>\n",
       "      <td>A373MY0PQL9R41</td>\n",
       "      <td>Green Mountain Coffee - Unsweetened Black Iced...</td>\n",
       "      <td>5</td>\n",
       "      <td>Black tea v Coca Cola</td>\n",
       "      <td>I have been one of those people that always fe...</td>\n",
       "    </tr>\n",
       "    <tr>\n",
       "      <th>41708</th>\n",
       "      <td>B003M5W8ZK</td>\n",
       "      <td>A3U2QUKGA7CJOP</td>\n",
       "      <td>Green Mountain Coffee - Unsweetened Black Iced...</td>\n",
       "      <td>1</td>\n",
       "      <td>Never Received the product</td>\n",
       "      <td>I was charged for this product by Liquid Natio...</td>\n",
       "    </tr>\n",
       "    <tr>\n",
       "      <th>41709</th>\n",
       "      <td>B005GXGAGY</td>\n",
       "      <td>A33AYVATA17JUR</td>\n",
       "      <td>LATE JULY CHIP MLTIGRN GRNMOJO ORG, 5.5 OZ, PK...</td>\n",
       "      <td>5</td>\n",
       "      <td>Great taste - and gluten free</td>\n",
       "      <td>Everyone in my family loves this chip - from t...</td>\n",
       "    </tr>\n",
       "  </tbody>\n",
       "</table>\n",
       "</div>"
      ],
      "text/plain": [
       "        ProductId          UserId  \\\n",
       "41705  B007IVE938  A3MDETK0D5UAIN   \n",
       "41706  B00125NESM   AGGS9IPJDU6ML   \n",
       "41707  B003M5W8ZK  A373MY0PQL9R41   \n",
       "41708  B003M5W8ZK  A3U2QUKGA7CJOP   \n",
       "41709  B005GXGAGY  A33AYVATA17JUR   \n",
       "\n",
       "                                             productName  Score  \\\n",
       "41705                 Ajika Organic Rose Buds, 1.6-Ounce      1   \n",
       "41706   JOHN BOOS FBLG7224 Table,Stainless,Shelf,72\"x24\"      5   \n",
       "41707  Green Mountain Coffee - Unsweetened Black Iced...      5   \n",
       "41708  Green Mountain Coffee - Unsweetened Black Iced...      1   \n",
       "41709  LATE JULY CHIP MLTIGRN GRNMOJO ORG, 5.5 OZ, PK...      5   \n",
       "\n",
       "                             Summary  \\\n",
       "41705           Not what I expected.   \n",
       "41706                        Great!!   \n",
       "41707          Black tea v Coca Cola   \n",
       "41708     Never Received the product   \n",
       "41709  Great taste - and gluten free   \n",
       "\n",
       "                                                    Text  \n",
       "41705  I certainly could do better by these if I just...  \n",
       "41706  Table is 35 inches in height.  It is heavy dut...  \n",
       "41707  I have been one of those people that always fe...  \n",
       "41708  I was charged for this product by Liquid Natio...  \n",
       "41709  Everyone in my family loves this chip - from t...  "
      ]
     },
     "metadata": {},
     "output_type": "display_data"
    }
   ],
   "source": [
    "food = pd.read_csv(\"./amazonFood.csv\")\n",
    "display(food.tail(5))"
   ]
  },
  {
   "cell_type": "code",
   "execution_count": 308,
   "id": "106ec26c",
   "metadata": {},
   "outputs": [
    {
     "data": {
      "text/html": [
       "<div>\n",
       "<style scoped>\n",
       "    .dataframe tbody tr th:only-of-type {\n",
       "        vertical-align: middle;\n",
       "    }\n",
       "\n",
       "    .dataframe tbody tr th {\n",
       "        vertical-align: top;\n",
       "    }\n",
       "\n",
       "    .dataframe thead th {\n",
       "        text-align: right;\n",
       "    }\n",
       "</style>\n",
       "<table border=\"1\" class=\"dataframe\">\n",
       "  <thead>\n",
       "    <tr style=\"text-align: right;\">\n",
       "      <th></th>\n",
       "      <th>ProductId</th>\n",
       "      <th>UserId</th>\n",
       "      <th>productName</th>\n",
       "      <th>Score</th>\n",
       "      <th>Summary</th>\n",
       "      <th>Text</th>\n",
       "    </tr>\n",
       "  </thead>\n",
       "  <tbody>\n",
       "    <tr>\n",
       "      <th>41675</th>\n",
       "      <td>B0016B3R34</td>\n",
       "      <td>A2MKDOEB6K6KS1</td>\n",
       "      <td>STARWEST BOTANICALS Tea Sencha leaf Tea Japan ...</td>\n",
       "      <td>5</td>\n",
       "      <td>Tasting so good</td>\n",
       "      <td>This tea is high quality and the taste is fres...</td>\n",
       "    </tr>\n",
       "    <tr>\n",
       "      <th>41681</th>\n",
       "      <td>B001M1YW0U</td>\n",
       "      <td>A29QCPFDSDNNKQ</td>\n",
       "      <td>Chex Corn Cereal, 14-Ounce Box (Pack of 14)</td>\n",
       "      <td>5</td>\n",
       "      <td>Wow, so good and so cheap</td>\n",
       "      <td>It took me a bit to consider getting 14 boxes ...</td>\n",
       "    </tr>\n",
       "  </tbody>\n",
       "</table>\n",
       "</div>"
      ],
      "text/plain": [
       "        ProductId          UserId  \\\n",
       "41675  B0016B3R34  A2MKDOEB6K6KS1   \n",
       "41681  B001M1YW0U  A29QCPFDSDNNKQ   \n",
       "\n",
       "                                             productName  Score  \\\n",
       "41675  STARWEST BOTANICALS Tea Sencha leaf Tea Japan ...      5   \n",
       "41681        Chex Corn Cereal, 14-Ounce Box (Pack of 14)      5   \n",
       "\n",
       "                         Summary  \\\n",
       "41675            Tasting so good   \n",
       "41681  Wow, so good and so cheap   \n",
       "\n",
       "                                                    Text  \n",
       "41675  This tea is high quality and the taste is fres...  \n",
       "41681  It took me a bit to consider getting 14 boxes ...  "
      ]
     },
     "metadata": {},
     "output_type": "display_data"
    }
   ],
   "source": [
    "def find_userid(user_id):\n",
    "    return 'A3' in user_id\n",
    "    \n",
    "def find_review(comment):\n",
    "    return 'GOOD'.lower() in str(comment).lower()\n",
    "\n",
    "good_comment = food[food['Summary'].apply(find_review)]\n",
    "display(good_comment.tail(2))\n",
    "\n",
    "#food[food['UserId'].apply(find_userid)]\n",
    "#food[food['Summary'].apply(find_review)]"
   ]
  },
  {
   "cell_type": "code",
   "execution_count": 314,
   "id": "e2d579a8",
   "metadata": {},
   "outputs": [
    {
     "data": {
      "text/plain": [
       "38"
      ]
     },
     "metadata": {},
     "output_type": "display_data"
    },
    {
     "data": {
      "text/plain": [
       "15"
      ]
     },
     "metadata": {},
     "output_type": "display_data"
    }
   ],
   "source": [
    "# good_comment['UserId'].value_counts()\n",
    "\n",
    "all_comment = food[food['UserId'] == \"AY12DBB0U420B\"][\"UserId\"].count()\n",
    "goods = good_comment[good_comment['UserId'] == \"AY12DBB0U420B\"][\"UserId\"].count()\n",
    "\n",
    "display(all_comment, goods)"
   ]
  },
  {
   "cell_type": "markdown",
   "id": "7a9197d8",
   "metadata": {},
   "source": [
    "## Answer"
   ]
  },
  {
   "cell_type": "markdown",
   "id": "ce34cf39",
   "metadata": {},
   "source": [
    "นำเข้าข้อมูล csv ชื่อไฟล์ว่า amazonFood.csv\n",
    "และลอง นำออกมาแสดง 5 ตัวอย่าง"
   ]
  },
  {
   "cell_type": "code",
   "execution_count": 319,
   "id": "b2254a6d",
   "metadata": {
    "scrolled": false
   },
   "outputs": [
    {
     "data": {
      "text/html": [
       "<div>\n",
       "<style scoped>\n",
       "    .dataframe tbody tr th:only-of-type {\n",
       "        vertical-align: middle;\n",
       "    }\n",
       "\n",
       "    .dataframe tbody tr th {\n",
       "        vertical-align: top;\n",
       "    }\n",
       "\n",
       "    .dataframe thead th {\n",
       "        text-align: right;\n",
       "    }\n",
       "</style>\n",
       "<table border=\"1\" class=\"dataframe\">\n",
       "  <thead>\n",
       "    <tr style=\"text-align: right;\">\n",
       "      <th></th>\n",
       "      <th>ProductId</th>\n",
       "      <th>UserId</th>\n",
       "      <th>productName</th>\n",
       "      <th>Score</th>\n",
       "      <th>Summary</th>\n",
       "      <th>Text</th>\n",
       "    </tr>\n",
       "  </thead>\n",
       "  <tbody>\n",
       "    <tr>\n",
       "      <th>41705</th>\n",
       "      <td>B007IVE938</td>\n",
       "      <td>A3MDETK0D5UAIN</td>\n",
       "      <td>Ajika Organic Rose Buds, 1.6-Ounce</td>\n",
       "      <td>1</td>\n",
       "      <td>Not what I expected.</td>\n",
       "      <td>I certainly could do better by these if I just...</td>\n",
       "    </tr>\n",
       "    <tr>\n",
       "      <th>41706</th>\n",
       "      <td>B00125NESM</td>\n",
       "      <td>AGGS9IPJDU6ML</td>\n",
       "      <td>JOHN BOOS FBLG7224 Table,Stainless,Shelf,72\"x24\"</td>\n",
       "      <td>5</td>\n",
       "      <td>Great!!</td>\n",
       "      <td>Table is 35 inches in height.  It is heavy dut...</td>\n",
       "    </tr>\n",
       "    <tr>\n",
       "      <th>41707</th>\n",
       "      <td>B003M5W8ZK</td>\n",
       "      <td>A373MY0PQL9R41</td>\n",
       "      <td>Green Mountain Coffee - Unsweetened Black Iced...</td>\n",
       "      <td>5</td>\n",
       "      <td>Black tea v Coca Cola</td>\n",
       "      <td>I have been one of those people that always fe...</td>\n",
       "    </tr>\n",
       "    <tr>\n",
       "      <th>41708</th>\n",
       "      <td>B003M5W8ZK</td>\n",
       "      <td>A3U2QUKGA7CJOP</td>\n",
       "      <td>Green Mountain Coffee - Unsweetened Black Iced...</td>\n",
       "      <td>1</td>\n",
       "      <td>Never Received the product</td>\n",
       "      <td>I was charged for this product by Liquid Natio...</td>\n",
       "    </tr>\n",
       "    <tr>\n",
       "      <th>41709</th>\n",
       "      <td>B005GXGAGY</td>\n",
       "      <td>A33AYVATA17JUR</td>\n",
       "      <td>LATE JULY CHIP MLTIGRN GRNMOJO ORG, 5.5 OZ, PK...</td>\n",
       "      <td>5</td>\n",
       "      <td>Great taste - and gluten free</td>\n",
       "      <td>Everyone in my family loves this chip - from t...</td>\n",
       "    </tr>\n",
       "  </tbody>\n",
       "</table>\n",
       "</div>"
      ],
      "text/plain": [
       "        ProductId          UserId  \\\n",
       "41705  B007IVE938  A3MDETK0D5UAIN   \n",
       "41706  B00125NESM   AGGS9IPJDU6ML   \n",
       "41707  B003M5W8ZK  A373MY0PQL9R41   \n",
       "41708  B003M5W8ZK  A3U2QUKGA7CJOP   \n",
       "41709  B005GXGAGY  A33AYVATA17JUR   \n",
       "\n",
       "                                             productName  Score  \\\n",
       "41705                 Ajika Organic Rose Buds, 1.6-Ounce      1   \n",
       "41706   JOHN BOOS FBLG7224 Table,Stainless,Shelf,72\"x24\"      5   \n",
       "41707  Green Mountain Coffee - Unsweetened Black Iced...      5   \n",
       "41708  Green Mountain Coffee - Unsweetened Black Iced...      1   \n",
       "41709  LATE JULY CHIP MLTIGRN GRNMOJO ORG, 5.5 OZ, PK...      5   \n",
       "\n",
       "                             Summary  \\\n",
       "41705           Not what I expected.   \n",
       "41706                        Great!!   \n",
       "41707          Black tea v Coca Cola   \n",
       "41708     Never Received the product   \n",
       "41709  Great taste - and gluten free   \n",
       "\n",
       "                                                    Text  \n",
       "41705  I certainly could do better by these if I just...  \n",
       "41706  Table is 35 inches in height.  It is heavy dut...  \n",
       "41707  I have been one of those people that always fe...  \n",
       "41708  I was charged for this product by Liquid Natio...  \n",
       "41709  Everyone in my family loves this chip - from t...  "
      ]
     },
     "execution_count": 319,
     "metadata": {},
     "output_type": "execute_result"
    }
   ],
   "source": [
    "food = pd.read_csv(\"./amazonFood.csv\")\n",
    "food.tail(5)"
   ]
  },
  {
   "cell_type": "markdown",
   "id": "37933876",
   "metadata": {},
   "source": [
    "นำข้อมูลที่ได้จาการ นำเข้า มา"
   ]
  },
  {
   "cell_type": "markdown",
   "id": "4004b4ae",
   "metadata": {},
   "source": [
    " - หาความยาวของข้อความ Summary ถ้าน้อยกว่า 5 คำ (แสดง 2 ตัวอย่าง)"
   ]
  },
  {
   "cell_type": "code",
   "execution_count": 338,
   "id": "94958e11",
   "metadata": {},
   "outputs": [
    {
     "data": {
      "text/html": [
       "<div>\n",
       "<style scoped>\n",
       "    .dataframe tbody tr th:only-of-type {\n",
       "        vertical-align: middle;\n",
       "    }\n",
       "\n",
       "    .dataframe tbody tr th {\n",
       "        vertical-align: top;\n",
       "    }\n",
       "\n",
       "    .dataframe thead th {\n",
       "        text-align: right;\n",
       "    }\n",
       "</style>\n",
       "<table border=\"1\" class=\"dataframe\">\n",
       "  <thead>\n",
       "    <tr style=\"text-align: right;\">\n",
       "      <th></th>\n",
       "      <th>ProductId</th>\n",
       "      <th>UserId</th>\n",
       "      <th>productName</th>\n",
       "      <th>Score</th>\n",
       "      <th>Summary</th>\n",
       "      <th>Text</th>\n",
       "    </tr>\n",
       "  </thead>\n",
       "  <tbody>\n",
       "    <tr>\n",
       "      <th>41707</th>\n",
       "      <td>B003M5W8ZK</td>\n",
       "      <td>A373MY0PQL9R41</td>\n",
       "      <td>Green Mountain Coffee - Unsweetened Black Iced...</td>\n",
       "      <td>5</td>\n",
       "      <td>Black tea v Coca Cola</td>\n",
       "      <td>I have been one of those people that always fe...</td>\n",
       "    </tr>\n",
       "    <tr>\n",
       "      <th>41709</th>\n",
       "      <td>B005GXGAGY</td>\n",
       "      <td>A33AYVATA17JUR</td>\n",
       "      <td>LATE JULY CHIP MLTIGRN GRNMOJO ORG, 5.5 OZ, PK...</td>\n",
       "      <td>5</td>\n",
       "      <td>Great taste - and gluten free</td>\n",
       "      <td>Everyone in my family loves this chip - from t...</td>\n",
       "    </tr>\n",
       "  </tbody>\n",
       "</table>\n",
       "</div>"
      ],
      "text/plain": [
       "        ProductId          UserId  \\\n",
       "41707  B003M5W8ZK  A373MY0PQL9R41   \n",
       "41709  B005GXGAGY  A33AYVATA17JUR   \n",
       "\n",
       "                                             productName  Score  \\\n",
       "41707  Green Mountain Coffee - Unsweetened Black Iced...      5   \n",
       "41709  LATE JULY CHIP MLTIGRN GRNMOJO ORG, 5.5 OZ, PK...      5   \n",
       "\n",
       "                             Summary  \\\n",
       "41707          Black tea v Coca Cola   \n",
       "41709  Great taste - and gluten free   \n",
       "\n",
       "                                                    Text  \n",
       "41707  I have been one of those people that always fe...  \n",
       "41709  Everyone in my family loves this chip - from t...  "
      ]
     },
     "execution_count": 338,
     "metadata": {},
     "output_type": "execute_result"
    }
   ],
   "source": [
    "def find_word(word):\n",
    "    word = str(word)\n",
    "    if len(word.split(\" \")) < 5:\n",
    "        return False\n",
    "    else:\n",
    "        return True\n",
    "    \n",
    "food[food['Summary'].apply(find_word)].tail(2)"
   ]
  },
  {
   "cell_type": "markdown",
   "id": "23641f04",
   "metadata": {},
   "source": [
    " - จากข้อก่อนหน้ามีกี่คนที่ให้ 5 คะแนนที่คน"
   ]
  },
  {
   "cell_type": "code",
   "execution_count": 359,
   "id": "aa600f2a",
   "metadata": {},
   "outputs": [
    {
     "data": {
      "text/plain": [
       "7241"
      ]
     },
     "metadata": {},
     "output_type": "display_data"
    }
   ],
   "source": [
    "a = food[food['Summary'].apply(find_word)]\n",
    "b = a[a['Score'] == 5]['UserId']\n",
    "display(b.value_counts().count())"
   ]
  },
  {
   "cell_type": "markdown",
   "id": "6d6e9299",
   "metadata": {},
   "source": [
    " - แสดง top 5 product Name ทั้งหมด ที่ในชื่อมีคำว่า Coffee"
   ]
  },
  {
   "cell_type": "code",
   "execution_count": 356,
   "id": "bd60ad30",
   "metadata": {},
   "outputs": [
    {
     "data": {
      "text/plain": [
       "54     Green Unroasted Mexican Altura, Whole Bean Cof...\n",
       "55     Green Unroasted Mexican Altura, Whole Bean Cof...\n",
       "139    International Delight Non-Dairy Hazelnut, 24 C...\n",
       "159    Fantasicakes Gourmet Cinnamon Coffee Cake (8\"/...\n",
       "289    Berres Brothers Coffee Roasters Turtle Sundae ...\n",
       "Name: productName, dtype: object"
      ]
     },
     "execution_count": 356,
     "metadata": {},
     "output_type": "execute_result"
    }
   ],
   "source": [
    "food[food['productName'].apply(lambda x: 'coffee' in x.lower())]['productName'].value_counts().head()"
   ]
  },
  {
   "cell_type": "markdown",
   "id": "a093e275",
   "metadata": {},
   "source": [
    " - แสดงค่าเฉลี่ยคะแนนของคนที่ทานกาแฟ"
   ]
  },
  {
   "cell_type": "code",
   "execution_count": 362,
   "id": "dec54a59",
   "metadata": {},
   "outputs": [
    {
     "data": {
      "text/plain": [
       "4.131608548931384"
      ]
     },
     "execution_count": 362,
     "metadata": {},
     "output_type": "execute_result"
    }
   ],
   "source": [
    "food[food['productName'].apply(lambda x: 'coffee' in x.lower())]['Score'].mean()"
   ]
  },
  {
   "cell_type": "markdown",
   "id": "8be58764",
   "metadata": {},
   "source": [
    " - แสดงจำนวนเมนูทั้งหมด ไม่นับชื่อเมนูที่ซ้ำกัน"
   ]
  },
  {
   "cell_type": "code",
   "execution_count": 369,
   "id": "6b10484d",
   "metadata": {},
   "outputs": [
    {
     "data": {
      "text/plain": [
       "4939"
      ]
     },
     "execution_count": 369,
     "metadata": {},
     "output_type": "execute_result"
    }
   ],
   "source": [
    "len(food['productName'].unique())"
   ]
  }
 ],
 "metadata": {
  "kernelspec": {
   "display_name": "Python 3 (ipykernel)",
   "language": "python",
   "name": "python3"
  },
  "language_info": {
   "codemirror_mode": {
    "name": "ipython",
    "version": 3
   },
   "file_extension": ".py",
   "mimetype": "text/x-python",
   "name": "python",
   "nbconvert_exporter": "python",
   "pygments_lexer": "ipython3",
   "version": "3.9.13"
  }
 },
 "nbformat": 4,
 "nbformat_minor": 5
}
